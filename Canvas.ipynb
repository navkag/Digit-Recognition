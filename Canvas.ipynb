{
 "cells": [
  {
   "cell_type": "code",
   "execution_count": 2,
   "id": "d5a1aeb8",
   "metadata": {},
   "outputs": [
    {
     "name": "stderr",
     "output_type": "stream",
     "text": [
      "/var/folders/fg/kvxzkmq52j91ncbp_n_6shkh0000gn/T/ipykernel_47341/2975475424.py:26: DeprecationWarning: BICUBIC is deprecated and will be removed in Pillow 10 (2023-07-01). Use Resampling.BICUBIC instead.\n",
      "  resized_image = new_image.resize((28, 28), Image.BICUBIC)\n"
     ]
    },
    {
     "data": {
      "image/png": "[encoded data removed]",
      "text/plain": [
       "<Figure size 640x480 with 1 Axes>"
      ]
     },
     "metadata": {},
     "output_type": "display_data"
    },
    {
     "name": "stderr",
     "output_type": "stream",
     "text": [
      "/var/folders/fg/kvxzkmq52j91ncbp_n_6shkh0000gn/T/ipykernel_47341/2975475424.py:26: DeprecationWarning: BICUBIC is deprecated and will be removed in Pillow 10 (2023-07-01). Use Resampling.BICUBIC instead.\n",
      "  resized_image = new_image.resize((28, 28), Image.BICUBIC)\n"
     ]
    },
    {
     "data": {
      "image/png": "[encoded data removed]",
      "text/plain": [
       "<Figure size 640x480 with 1 Axes>"
      ]
     },
     "metadata": {},
     "output_type": "display_data"
    },
    {
     "name": "stdout",
     "output_type": "stream",
     "text": [
      "Done\n"
     ]
    }
   ],
   "source": [
    "from xgboost import XGBClassifier\n",
    "from tkinter import *\n",
    "from PIL import Image, ImageTk, ImageGrab, ImageOps\n",
    "import tkinter as tk\n",
    "import tkinter.messagebox as mb\n",
    "import numpy as np\n",
    "from joblib import load\n",
    "import matplotlib as mpl\n",
    "import matplotlib.pyplot as plt\n",
    "\n",
    "x_coordinate, y_coordinate = 0, 0\n",
    "\n",
    "model = load(\"models/best_model.pkl\")\n",
    "\n",
    "app = Tk()\n",
    "app.geometry(\"400x415+\" + str(x_coordinate) + \"+\" + str(y_coordinate))\n",
    "title = Label(app, text=\"Digit Predictor\", font=(\"bold\", 30))\n",
    "title.pack()\n",
    "canvas = Canvas(app, width=300, height=300, bg='white')\n",
    "canvas.place(x=50, y=50)\n",
    "\n",
    "def helloCallBack():\n",
    "    ss_region = (55 + x_coordinate, 115 + y_coordinate, 350, 400)\n",
    "    new_image = ImageGrab.grab(ss_region)\n",
    " \n",
    "    resized_image = new_image.resize((28, 28), Image.BICUBIC)\n",
    "\n",
    "    B = ImageOps.grayscale(resized_image)\n",
    "    pixel_array = 255 - np.array(list(B.getdata()))\n",
    "    pixel_array = pixel_array.reshape(1, -1)\n",
    "    \n",
    "    pred = model.predict(pixel_array)\n",
    "    confidence = np.max(model.predict_proba(pixel_array)) * 100\n",
    "    \n",
    "    plt.imshow(pixel_array.reshape(28, 28), cmap=\"binary\", interpolation='nearest')\n",
    "    plt.axis('off') \n",
    "    plt.show()\n",
    "    \n",
    "    displayTitle = \"Prediction\"\n",
    "    displayMessage = f\"Digit: {pred}\\nConfidence: {int(confidence)}%\"\n",
    "    mb.showinfo(displayTitle, displayMessage)\n",
    "    canvas.delete(\"all\")\n",
    "\n",
    "btn = Button(app, text='Predict!', width=10,\n",
    "             height=2, bd='10', command=helloCallBack)\n",
    " \n",
    "btn.place(x=131, y=354)\n",
    "\n",
    "def get_x_and_y(event):\n",
    "    global lasx, lasy\n",
    "    lasx, lasy = event.x, event.y\n",
    "\n",
    "def draw_smth(event):\n",
    "    global lasx, lasy\n",
    "    r=12\n",
    "    canvas.create_oval(event.x-r, event.y-r, event.x+r, event.y+r, fill='black', outline=\"black\")\n",
    "    lasx, lasy = event.x, event.y\n",
    "\n",
    "canvas.bind(\"<Button-1>\", get_x_and_y)\n",
    "canvas.bind(\"<B1-Motion>\", draw_smth)\n",
    "\n",
    "app.mainloop()\n",
    "\n",
    "print(\"Done\")"
   ]
  },
  {
   "cell_type": "code",
   "execution_count": null,
   "id": "8de0d9bf",
   "metadata": {},
   "outputs": [],
   "source": []
  }
 ],
 "metadata": {
  "kernelspec": {
   "display_name": "Python 3 (ipykernel)",
   "language": "python",
   "name": "python3"
  },
  "language_info": {
   "codemirror_mode": {
    "name": "ipython",
    "version": 3
   },
   "file_extension": ".py",
   "mimetype": "text/x-python",
   "name": "python",
   "nbconvert_exporter": "python",
   "pygments_lexer": "ipython3",
   "version": "3.9.13"
  }
 },
 "nbformat": 4,
 "nbformat_minor": 5
}
